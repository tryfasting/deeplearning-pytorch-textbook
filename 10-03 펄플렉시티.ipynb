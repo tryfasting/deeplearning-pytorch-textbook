{
 "cells": [
  {
   "cell_type": "markdown",
   "metadata": {},
   "source": [
    "## 모델 내에서 자신의 성능을 수치화하여 결과를 내놓는, Perplexity에 대해서 배운다."
   ]
  },
  {
   "cell_type": "markdown",
   "metadata": {},
   "source": [
    "### 1. 언어 모델의 평가 방법(Evaluation metric) : PPL\n",
    "\n",
    "Perplexity는 언어 모델을 평가하기 위한 평가 지표이다.  \n",
    "perplexed는 '헷갈리는, confused, because something is difficult to understand or solve'이라는 뜻이다.  \n",
    "즉, 낮을 수록 좋은 지표이다.  \n",
    "\n",
    "문장 W의 길이가 N이라고 할 때, PPL은 다음과 같다.  \n",
    "\n",
    "$PPL(W)=P(w_{1}, w_{2}, w_{3}, ... , w_{N})^{-\\frac{1}{N}}=\\sqrt[N]{\\frac{1}{P(w_{1}, w_{2}, w_{3}, ... , w_{N})}}$  \n",
    "\n",
    "$PPL(W)=\\sqrt[N]{\\frac{1}{P(w_{1}, w_{2}, w_{3}, ... , w_{N})}}=\\sqrt[N]{\\frac{1}{\\prod_{i=1}^{N}P(w_{i}| w_{1}, w_{2}, ... , w_{i-1})}}$  \n",
    "\n",
    "n-gram을 적용한다면,  \n",
    "$PPL(W)=\\sqrt[N]{\\frac{1}{\\prod_{i=1}^{N}P(w_{i}| w_{i-1})}}$"
   ]
  },
  {
   "cell_type": "markdown",
   "metadata": {},
   "source": [
    "### 2. 분기 계수(Branching factor)"
   ]
  },
  {
   "cell_type": "markdown",
   "metadata": {},
   "source": [
    "PPL은 선택할 수 있는 가능한 경우의 수를 의미하는 분기계수(branching factor)이다.    \n",
    "즉, 이 언어 모델이 **특정 시점에서 평균적으로 몇 개의 선택지를 가지고 고민하고 있는지**를 뜻한다.  \n",
    "단, PPL이 낮다는 것이 반드시 사람이 느끼기에 좋은 언어 모델이라는 것을 의미하지 않는다.  \n",
    "또한 언어 모델의 PPL은 테스트 데이터에 의존하므로 두 개 이상의 언어 모델을 비교할 때는  \n",
    "정량적으로 양이 많고, 또한 도메인에 알맞은 동일한 테스트 데이터를 사용해야 신뢰도가 높다."
   ]
  },
  {
   "cell_type": "markdown",
   "metadata": {},
   "source": [
    "### 3. 기존 언어 모델 vs. 인공 신경망을 이용한 언어 모델"
   ]
  },
  {
   "cell_type": "markdown",
   "metadata": {},
   "source": [
    "인공 신경망 언어 모델이 PPL이 더 낮더라."
   ]
  }
 ],
 "metadata": {
  "language_info": {
   "name": "python"
  }
 },
 "nbformat": 4,
 "nbformat_minor": 2
}
