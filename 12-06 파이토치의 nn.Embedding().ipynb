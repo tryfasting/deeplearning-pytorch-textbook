{
 "cells": [
  {
   "cell_type": "code",
   "execution_count": 2,
   "id": "e31b1112",
   "metadata": {},
   "outputs": [],
   "source": [
    "from IPython.display import Image"
   ]
  },
  {
   "cell_type": "code",
   "execution_count": 1,
   "id": "d705e53d",
   "metadata": {},
   "outputs": [],
   "source": [
    "import torch\n",
    "import torch.nn as nn"
   ]
  },
  {
   "cell_type": "markdown",
   "id": "aad6257d",
   "metadata": {},
   "source": [
    "파이토치에서는  \n",
    "embedding layer를 만들어 훈련 데이터로부터 처음부터 임베딩 벡터를 학습하는 방법과,  \n",
    "pre-trained word embedding들을 가져와 사용하는 방법이 있다.  \n",
    "이번 챕터는 전자에 대해서 배운다.  "
   ]
  },
  {
   "cell_type": "markdown",
   "id": "98b8758c",
   "metadata": {},
   "source": [
    "### 1. 임베딩 층은 룩업 테이블이다."
   ]
  },
  {
   "cell_type": "code",
   "execution_count": 3,
   "id": "5b68ddf0",
   "metadata": {},
   "outputs": [
    {
     "data": {
      "image/png": "[encoded data removed]",
      "text/plain": [
       "<IPython.core.display.Image object>"
      ]
     },
     "execution_count": 3,
     "metadata": {},
     "output_type": "execute_result"
    }
   ],
   "source": [
    "Image(\"./scr/12-06 lookup_table.png\")"
   ]
  },
  {
   "cell_type": "markdown",
   "id": "381cd2da",
   "metadata": {},
   "source": [
    "임베딩 층의 입력으로 사용하기 위해서 입력 시퀀스의 각 단어들은 모두 정수 인코딩이 되어 있어야 한다.  \n",
    "\n",
    "어떤 단어 → 단어에 부여된 고유한 정수값 → 임베딩 층 통과 → 밀집 벡터 "
   ]
  },
  {
   "cell_type": "markdown",
   "id": "856e0c00",
   "metadata": {},
   "source": [
    "파이토치는 단어를 정수 인덱스로만 바꾼채로 임베딩 층의 입력으로 사용해도 룩업 테이블 된 결과인 임베딩 벡터를 리턴한다.  "
   ]
  },
  {
   "cell_type": "markdown",
   "id": "d8bcc279",
   "metadata": {},
   "source": [
    "룩업 테이블 과정을 nn.Embedding()을 사용하지 않고 구현하면서 이해해보자."
   ]
  },
  {
   "cell_type": "code",
   "execution_count": 4,
   "id": "6ba94796",
   "metadata": {},
   "outputs": [
    {
     "name": "stdout",
     "output_type": "stream",
     "text": [
      "{'to': 2, 'need': 3, 'how': 4, 'you': 5, 'code': 6, 'know': 7, '<unk>': 0, '<pad>': 1}\n"
     ]
    }
   ],
   "source": [
    "train_data = 'you need to know how to code'\n",
    "\n",
    "# 중복을 제거한 단어들의 집합인 단어 집합 생성.\n",
    "word_set = set(train_data.split())\n",
    "\n",
    "# 단어 집합의 각 단어에 고유한 정수 맵핑.\n",
    "vocab = {word: i + 2 for i, word in enumerate(word_set)}\n",
    "vocab['<unk>'] = 0\n",
    "vocab['<pad>'] = 1\n",
    "print(vocab)"
   ]
  },
  {
   "cell_type": "markdown",
   "id": "b3f3c68d",
   "metadata": {},
   "source": [
    "이제 단어 집합의 크기를 행으로 가지는 임베딩 테이블을 구현한다.  \n",
    "이때, 임베딩 벡터의 차원은 3으로 정했다.  "
   ]
  },
  {
   "cell_type": "code",
   "execution_count": 5,
   "id": "72bdf734",
   "metadata": {},
   "outputs": [],
   "source": [
    "# 단어 집합의 크기만큼의 행을 가지는 테이블 생성.\n",
    "embedding_table = torch.FloatTensor([\n",
    "                               [ 0.0,  0.0,  0.0],\n",
    "                               [ 0.0,  0.0,  0.0],\n",
    "                               [ 0.2,  0.9,  0.3],\n",
    "                               [ 0.1,  0.5,  0.7],\n",
    "                               [ 0.2,  0.1,  0.8],\n",
    "                               [ 0.4,  0.1,  0.1],\n",
    "                               [ 0.1,  0.8,  0.9],\n",
    "                               [ 0.6,  0.1,  0.1]])"
   ]
  },
  {
   "cell_type": "markdown",
   "id": "98b526fd",
   "metadata": {},
   "source": [
    "이제 임의의 문장 'you need to run'에 대해서 룩업 테이블을 통해 임베딩 벡터를 가져와보자.  "
   ]
  },
  {
   "cell_type": "code",
   "execution_count": null,
   "id": "f64add7f",
   "metadata": {},
   "outputs": [
    {
     "name": "stdout",
     "output_type": "stream",
     "text": [
      "tensor([[0.4000, 0.1000, 0.1000],\n",
      "        [0.1000, 0.5000, 0.7000],\n",
      "        [0.2000, 0.9000, 0.3000],\n",
      "        [0.0000, 0.0000, 0.0000]])\n"
     ]
    }
   ],
   "source": [
    "sample: list  = 'you need to run'.split()\n",
    "idxes = []\n",
    "\n",
    "# 각 단어들을 정수로 변환\n",
    "for word in sample:\n",
    "    try:\n",
    "        idxes.append(vocab[word])\n",
    "    # 단어 집합에 없는 단어일 경우 <unk>로 대체된다.\n",
    "    except KeyError:\n",
    "        idxes.append(vocab['<unk>'])\n",
    "idxes = torch.LongTensor(idxes)\n",
    "\n",
    "\n",
    "# 각 정수를 인덱스로 임베딩 테이블에서 값을 가져온다.\n",
    "lookup_result = embedding_table[idxes, :]\n",
    "print(lookup_result)"
   ]
  },
  {
   "cell_type": "markdown",
   "id": "7e1a0631",
   "metadata": {},
   "source": [
    "### 2. 임베딩 층 사용하기"
   ]
  },
  {
   "cell_type": "code",
   "execution_count": null,
   "id": "1308324b",
   "metadata": {},
   "outputs": [],
   "source": [
    "train_data = 'you need to know how to code'\n",
    "\n",
    "# 중복을 제거한 단어들의 집합인 단어 집합 생성.\n",
    "word_set = set(train_data.split())\n",
    "\n",
    "# 단어 집합의 각 단어에 고유한 정수 맵핑.\n",
    "vocab = {tkn: i+2 for i, tkn in enumerate(word_set)}\n",
    "vocab['<unk>'] = 0\n",
    "vocab['<pad>'] = 1\n"
   ]
  },
  {
   "cell_type": "markdown",
   "id": "914ebd05",
   "metadata": {},
   "source": [
    "이제 nn.Embedding()을 사용하여 학습가능한 임베딩 테이블을 만든다."
   ]
  },
  {
   "cell_type": "code",
   "execution_count": null,
   "id": "7236b2ba",
   "metadata": {},
   "outputs": [],
   "source": [
    "embedding_layer = nn.Embedding(num_embeddings=len(vocab),\n",
    "                               embedding_dim=3,\n",
    "                               padding_idx=1)"
   ]
  },
  {
   "cell_type": "markdown",
   "id": "721cccd1",
   "metadata": {},
   "source": [
    "nn.Embedding은 크게 두 가지 인자를 받는데      \n",
    "각각 num_embeddings과 embedding_dim이다.    \n",
    "num_embeddings : 단어 집합의 크기, 즉 임베딩할 단어 개수이다.  \n",
    "embedding_dim : 임베딩 할 벡터의 차원, 사용자가 지정한다.  \n",
    "padding_idx : 패딩을 위한 토큰의 인덱스를 알려준다.  "
   ]
  },
  {
   "cell_type": "code",
   "execution_count": null,
   "id": "814b958c",
   "metadata": {},
   "outputs": [
    {
     "name": "stdout",
     "output_type": "stream",
     "text": [
      "Parameter containing:\n",
      "tensor([[-1.2163, -0.3130, -1.9854],\n",
      "        [ 0.0000,  0.0000,  0.0000],\n",
      "        [ 0.8470, -0.3990, -0.8981],\n",
      "        [ 1.7707, -0.2078, -0.8524],\n",
      "        [ 0.7884, -0.8605, -1.2288],\n",
      "        [ 0.3159, -0.6077, -0.3161],\n",
      "        [ 0.7067,  0.5075,  0.9179],\n",
      "        [ 0.4833,  1.1937, -0.4662]], requires_grad=True)\n"
     ]
    }
   ],
   "source": [
    "print(embedding_layer.weight)"
   ]
  }
 ],
 "metadata": {
  "kernelspec": {
   "display_name": ".venv",
   "language": "python",
   "name": "python3"
  },
  "language_info": {
   "codemirror_mode": {
    "name": "ipython",
    "version": 3
   },
   "file_extension": ".py",
   "mimetype": "text/x-python",
   "name": "python",
   "nbconvert_exporter": "python",
   "pygments_lexer": "ipython3",
   "version": "3.12.9"
  }
 },
 "nbformat": 4,
 "nbformat_minor": 5
}
