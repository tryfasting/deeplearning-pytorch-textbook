{
 "cells": [
  {
   "cell_type": "markdown",
   "metadata": {},
   "source": [
    "## 소프트맥스 회귀를 통해 3개 이상의 선택지 중에서, 1개를 고르는 다중 클래스 분류를 실습해본다."
   ]
  },
  {
   "cell_type": "markdown",
   "metadata": {},
   "source": [
    "### 1. 다중 클래스 분류"
   ]
  },
  {
   "cell_type": "markdown",
   "metadata": {},
   "source": [
    "세 개 이상의 답 중 하나를 고르는 문제를 다중 클래스 분류(Multi-class Classification)이라고 한다.\n",
    "\n",
    "소프트맥스 회귀는 확률의 총 합이 1이 되는 아이디어를 다중 클래스 분류 문제에 적용한다. 소프트맥스 회귀는 각 클래스, 즉, 각 선택지마다 소수 확률을 할당한다. 이때 확률의 총합은 1이다."
   ]
  },
  {
   "cell_type": "markdown",
   "metadata": {},
   "source": [
    "### 2. 소프트맥스 함수\n",
    "\n",
    "분류해야하는 정답지의 총 갯수를 k라고 할 때,  \n",
    "k차원의 벡터를 입력받아 각 클래스에 대한 확률을 추정한다."
   ]
  },
  {
   "cell_type": "markdown",
   "metadata": {},
   "source": [
    "#### 1) 소프트맥스 함수의 이해"
   ]
  },
  {
   "cell_type": "markdown",
   "metadata": {},
   "source": [
    "#### 2) 그림을 통한 이해"
   ]
  },
  {
   "cell_type": "markdown",
   "metadata": {},
   "source": [
    "소프트맥스의 입력은 어떻게 해야할까?  \n",
    "예시의 샘플 데이터는 4개의 독립 변수 x를 가진다.  \n",
    "즉, 4차원 벡터를 입력으로 받는다.  \n",
    "그런데 소프트맥스의 출력은 3차원 벡터로,  \n",
    "즉, 소프트맥스의 입력을 3차원 벡터로 변환해야한다.  \n",
    "따라서 소프트맥스 함수의 입력 벡터 z의 차원수만큼 결과값이 나오도록 가중치 곱을 진행한다.  "
   ]
  },
  {
   "cell_type": "markdown",
   "metadata": {},
   "source": [
    "또 다른 질문이다.  \n",
    "오차 계산은 어떻게 해야할까?  \n",
    "예측값과 비교를 할 수 있는 실제값이 있어야 오차를 구할 수 있다.  \n",
    "소프트맥스 회귀에서는 실제값을 바로 원-핫 벡터로 표현한다.\n",
    "\n",
    "예컨대 virginica = [1,0,0], setosa = [0,1,0], versicolor = [0,0,1]과 같은 식이다.  \n",
    "\n",
    "그리고 두 벡터의 오차를 계산하기 위해서 소프트맥스 회귀는 비용 함수로 크로스 엔트로피 함수를 사용한다.\n"
   ]
  },
  {
   "cell_type": "markdown",
   "metadata": {},
   "source": [
    "### 3. 붓꽃 품종 분류하기 행렬 연산으로 이해하기"
   ]
  },
  {
   "cell_type": "markdown",
   "metadata": {},
   "source": [
    "예제의 데이터는 5 x 4 행렬 X로 정의된다.  \n",
    "그렇다면,  \n",
    "예측값인 행렬 Y^은 5 x 3 행렬이 되어야 할 것이다.   \n",
    "가설의 예측값으로 얻는 것이므로, 열의 갯수는 3이고,  \n",
    "행렬 X의 각 행의 samples에서의 예측값이므로, 5가 된다.\n",
    "\n",
    "가중치 행렬 W는, 마찬가지의 추정으로 4 x 3 행렬이 될 것이다."
   ]
  },
  {
   "cell_type": "markdown",
   "metadata": {},
   "source": [
    "### 4. 비용 함수(Cost function)"
   ]
  },
  {
   "cell_type": "markdown",
   "metadata": {},
   "source": [
    "#### 1) 크로스 엔트로피 함수 \n",
    "수식 참고 : https://wikidocs.net/59427  \n",
    "정확하게 예측하면, 수식에서 log의 값은 1이 되고, log 1은 0이 된다.  \n",
    "즉, 비용이 0이 된다."
   ]
  },
  {
   "cell_type": "markdown",
   "metadata": {},
   "source": [
    "#### 2) 이진 분류에서의 크로스 엔트로피 함수\n",
    "본질적으로는 로지스틱 회귀의 크로스 엔트로피 함수나,   \n",
    "소프트맥스 회귀의 크로스 엔트로피 함수나  \n",
    "동일하다."
   ]
  }
 ],
 "metadata": {
  "language_info": {
   "name": "python"
  }
 },
 "nbformat": 4,
 "nbformat_minor": 2
}
