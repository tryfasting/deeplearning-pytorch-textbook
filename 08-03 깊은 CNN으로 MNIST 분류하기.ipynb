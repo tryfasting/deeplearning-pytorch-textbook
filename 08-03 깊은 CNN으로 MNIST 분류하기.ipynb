{
  "cells": [
    {
      "cell_type": "markdown",
      "metadata": {
        "colab_type": "text",
        "id": "view-in-github"
      },
      "source": [
        "<a href=\"https://colab.research.google.com/github/tryfasting/deeplearning-pytorch-textbook/blob/main/08-03%20%EA%B9%8A%EC%9D%80%20CNN%EC%9C%BC%EB%A1%9C%20MNIST%20%EB%B6%84%EB%A5%98%ED%95%98%EA%B8%B0.ipynb\" target=\"_parent\"><img src=\"https://colab.research.google.com/assets/colab-badge.svg\" alt=\"Open In Colab\"/></a>"
      ]
    },
    {
      "cell_type": "markdown",
      "metadata": {
        "id": "NMCNuyMPvksb"
      },
      "source": [
        "## 앞서 배운 CNN에 층을 더 추가하여 MNIST를 분류해보자."
      ]
    },
    {
      "cell_type": "markdown",
      "metadata": {
        "id": "ihPR_MZGvksc"
      },
      "source": [
        "### 1. 모델 이해하기"
      ]
    },
    {
      "cell_type": "markdown",
      "metadata": {
        "id": "Cy980OcGvksc"
      },
      "source": [
        "모델의 아키텍처는 총 5개의 층으로 구성할 예정이다."
      ]
    },
    {
      "cell_type": "markdown",
      "metadata": {
        "id": "C0fCvcYbvksc"
      },
      "source": [
        "### 2. 깊은 CNN으로 MNIST 분류하기"
      ]
    },
    {
      "cell_type": "code",
      "execution_count": 1,
      "metadata": {
        "id": "0z9t_I_vvksd"
      },
      "outputs": [],
      "source": [
        "import torch\n",
        "import torchvision.datasets as dsets\n",
        "import torchvision.transforms as transforms\n",
        "import torch.nn.init"
      ]
    },
    {
      "cell_type": "code",
      "execution_count": 2,
      "metadata": {
        "id": "phqQJWa3vksd"
      },
      "outputs": [],
      "source": [
        "device = 'cpu' if torch.cuda.is_available() else 'cpu'\n",
        "\n",
        "# 랜덤 시드 고정\n",
        "torch.manual_seed(777)\n",
        "\n",
        "# GPU 사용 가능일 경우 랜덤 시드 고정\n",
        "if device == 'cuda':\n",
        "    torch.cuda.manual_seed_all(777)"
      ]
    },
    {
      "cell_type": "markdown",
      "metadata": {
        "id": "gvw7vkozvksd"
      },
      "source": [
        "하이퍼파라미터를 설정한다."
      ]
    },
    {
      "cell_type": "code",
      "execution_count": 3,
      "metadata": {
        "id": "DGcK445Evksd"
      },
      "outputs": [],
      "source": [
        "learning_rate = 0.001\n",
        "training_epochs = 15\n",
        "batch_size = 100"
      ]
    },
    {
      "cell_type": "markdown",
      "metadata": {
        "id": "rkSwgczxvksd"
      },
      "source": [
        "데이터셋을 정의한다.  "
      ]
    },
    {
      "cell_type": "code",
      "execution_count": 4,
      "metadata": {
        "colab": {
          "base_uri": "https://localhost:8080/"
        },
        "id": "dTNJRKxJvkse",
        "outputId": "d488f6c9-c04c-45fd-bc4f-72b5ccabee67"
      },
      "outputs": [
        {
          "name": "stderr",
          "output_type": "stream",
          "text": [
            "100%|██████████| 9.91M/9.91M [00:01<00:00, 5.11MB/s]\n",
            "100%|██████████| 28.9k/28.9k [00:00<00:00, 135kB/s]\n",
            "100%|██████████| 1.65M/1.65M [00:06<00:00, 247kB/s]\n",
            "100%|██████████| 4.54k/4.54k [00:00<00:00, 5.48MB/s]\n"
          ]
        }
      ],
      "source": [
        "mnist_train = dsets.MNIST(root='MNIST_data/', #다운로드 경로 지정\n",
        "                          train=True,\n",
        "                          transform=transforms.ToTensor(),\n",
        "                          download=True)\n",
        "\n",
        "mnist_test = dsets.MNIST(root='MNIST_data/',\n",
        "                         train=False,\n",
        "                         transform=transforms.ToTensor(),\n",
        "                         download=True)"
      ]
    },
    {
      "cell_type": "markdown",
      "metadata": {
        "id": "zzwdRLqdvkse"
      },
      "source": [
        "데이터로더를 사용하여 배치 크기를 지정해준다."
      ]
    },
    {
      "cell_type": "code",
      "execution_count": 5,
      "metadata": {
        "id": "10C2SqV9vkse"
      },
      "outputs": [],
      "source": [
        "data_loader = torch.utils.data.DataLoader(dataset=mnist_train,\n",
        "                                          batch_size=batch_size,\n",
        "                                          shuffle=True,\n",
        "                                          drop_last=True)"
      ]
    },
    {
      "cell_type": "markdown",
      "metadata": {
        "id": "duPkwU0Uvkse"
      },
      "source": [
        "클래스로 모델을 설계한다."
      ]
    },
    {
      "cell_type": "code",
      "execution_count": 6,
      "metadata": {
        "id": "xYF7D2Dpvkse"
      },
      "outputs": [],
      "source": [
        "class CNN(torch.nn.Module):\n",
        "\n",
        "    def __init__(self):\n",
        "        super(CNN, self).__init__()\n",
        "        self.keep_prob = 0.5        # 드롭아웃 확률\n",
        "        # 입력 이미지 형태 : (?, 28, 28, 1)\n",
        "\n",
        "\n",
        "        # L1 : 첫 번째 합성곱층(Conv Layer)\n",
        "        # Conv2d : 출력 채널 32개, 커널 크기 3*3, 스트라이드 1, 패딩 1\n",
        "        # ReLU : 활성화 함수\n",
        "        # MaxPool2d: 커널 크기 2*2, 스트라이드 2로 다운샘플링\n",
        "        # -> 출력형태 : (?, 14, 14, 32)\n",
        "        self.layer1 = torch.nn.Sequential(\n",
        "            torch.nn.Conv2d(1, 32, kernel_size=3, stride=1, padding=1),\n",
        "            torch.nn.ReLU(),\n",
        "            torch.nn.MaxPool2d(kernel_size=2, stride=2)\n",
        "        )\n",
        "\n",
        "        # 입력 이미지 형태 : (?, 14, 14, 32)\n",
        "        # L2 : 두 번째 합성곱층 (Conv Layer)\n",
        "        # Conv2d: 출력 채널 64개, 커널 크기 3x3, 스트라이드 1, 패딩 1\n",
        "        # ReLU: 활성화 함수\n",
        "        # MaxPool2d: 커널 크기 2x2, 스트라이드 2로 다운샘플링\n",
        "        # -> 출력형태 : (?, 7, 7, 64)\n",
        "        self.layer2 = torch.nn.Sequential(\n",
        "            torch.nn.Conv2d(32, 64, kernel_size=3, stride=1, padding=1),\n",
        "            torch.nn.ReLU(),\n",
        "            torch.nn.MaxPool2d(kernel_size=2, stride=2)\n",
        "        )\n",
        "\n",
        "        # 입력 이미지 형태 : (?, 7, 7, 64)\n",
        "        # Conv2d: 출력 채널 128개, 커널 크기 3x3, 스트라이드 1, 패딩 1\n",
        "        # ReLU: 활성화 함수\n",
        "        # MaxPool2d: 커널 크기 2x2, 스트라이드 2, 패딩 1로 다운샘플링\n",
        "        # -> 출력 형태: (?, 4, 4, 128)\n",
        "        self.layer3 = torch.nn.Sequential(\n",
        "            torch.nn.Conv2d(64, 128, kernel_size=3, stride=1, padding=1),\n",
        "            torch.nn.ReLU(),\n",
        "            torch.nn.MaxPool2d(kernel_size=2, stride=2, padding=1)\n",
        "        )\n",
        "\n",
        "        # 입력 노드 수 : 4*4*128, 출력 노드 수 : 625\n",
        "        # L4 : 첫 번째 Fully connected layer\n",
        "        # ReLU : 활성화 함수\n",
        "        # Dropout : 드롭아웃으로 과적합 방지, p = 0.5\n",
        "        self.fc1 = torch.nn.Linear(4*4*128, 625, bias=True)\n",
        "        torch.nn.init.xavier_uniform_(self.fc1.weight) # 가중치 초기화\n",
        "\n",
        "        self.layer4 = torch.nn.Sequential(\n",
        "            self.fc1,\n",
        "            torch.nn.ReLU(),\n",
        "            torch.nn.Dropout(p = 1 - self.keep_prob)\n",
        "        )\n",
        "\n",
        "        # 입력 노드 수 : 625, 출력 노드 수 : 10, (클래스 개수)\n",
        "        # L5 : 최종 선형층, fully-connected layer\n",
        "        self.fc2 = torch.nn.Linear(625, 10, bias=True)\n",
        "        torch.nn.init.xavier_uniform_(self.fc2.weight) # 가중치 초기화\n",
        "\n",
        "    def forward(self, x):\n",
        "        out = self.layer1(x)\n",
        "        out = self.layer2(out)\n",
        "        out = self.layer3(out)\n",
        "        out = out.view(out.size(0), -1) # 선형층 입력 위해 flatten\n",
        "        out = self.layer4(out)\n",
        "        out = self.fc2(out)\n",
        "        return out"
      ]
    },
    {
      "cell_type": "markdown",
      "metadata": {
        "id": "0hztsqI4vkse"
      },
      "source": [
        "모델을 정의한다."
      ]
    },
    {
      "cell_type": "code",
      "execution_count": 7,
      "metadata": {
        "id": "xoBE-Aoivksf"
      },
      "outputs": [],
      "source": [
        "# CNN 모델 정의\n",
        "model = CNN().to(device)"
      ]
    },
    {
      "cell_type": "markdown",
      "metadata": {
        "id": "QKpQtMRVvksf"
      },
      "source": [
        "비용 함수와 옵티마이저를 정의한다."
      ]
    },
    {
      "cell_type": "code",
      "execution_count": 8,
      "metadata": {
        "id": "SW8kUiSIvksf"
      },
      "outputs": [],
      "source": [
        "criterion = torch.nn.CrossEntropyLoss().to(device) # 비용함수에 소프트맥스 함수 포함\n",
        "optimizer = torch.optim.Adam(model.parameters(), lr=learning_rate)"
      ]
    },
    {
      "cell_type": "markdown",
      "metadata": {
        "id": "9ZrUL65avksf"
      },
      "source": [
        "총 배치의 수를 출력해보겠습니다."
      ]
    },
    {
      "cell_type": "code",
      "execution_count": 9,
      "metadata": {
        "colab": {
          "base_uri": "https://localhost:8080/"
        },
        "id": "p77d60HRvksf",
        "outputId": "eca639a4-ce41-4560-ab74-d66cbb0b634e"
      },
      "outputs": [
        {
          "name": "stdout",
          "output_type": "stream",
          "text": [
            "총 배치의 수 : 600\n"
          ]
        }
      ],
      "source": [
        "total_batch = len(data_loader)\n",
        "print(f'총 배치의 수 : {total_batch}')"
      ]
    },
    {
      "cell_type": "code",
      "execution_count": 10,
      "metadata": {
        "colab": {
          "base_uri": "https://localhost:8080/"
        },
        "id": "hIwpI78cvksf",
        "outputId": "27e519b7-edc8-482f-9b1b-88303a5959bd"
      },
      "outputs": [
        {
          "name": "stdout",
          "output_type": "stream",
          "text": [
            "[Epoch:    1] cost = 0.19235523\n",
            "[Epoch:    2] cost = 0.0550963804\n",
            "[Epoch:    3] cost = 0.0382400788\n",
            "[Epoch:    4] cost = 0.0306283627\n",
            "[Epoch:    5] cost = 0.0248726383\n",
            "[Epoch:    6] cost = 0.0206133127\n",
            "[Epoch:    7] cost = 0.0169408526\n",
            "[Epoch:    8] cost = 0.0154811479\n",
            "[Epoch:    9] cost = 0.0149189457\n",
            "[Epoch:   10] cost = 0.0119884657\n",
            "[Epoch:   11] cost = 0.00975780655\n",
            "[Epoch:   12] cost = 0.00903648324\n",
            "[Epoch:   13] cost = 0.00889740698\n",
            "[Epoch:   14] cost = 0.00743382238\n",
            "[Epoch:   15] cost = 0.00752810063\n"
          ]
        }
      ],
      "source": [
        "for epoch in range(training_epochs):\n",
        "    avg_cost = 0\n",
        "\n",
        "    for X,Y in data_loader: # 미니 배치 단위로 꺼내온다. X는 미니배치, Y는 레이블\n",
        "        # image is already size of (28*28), no reshape\n",
        "        # label is not one-hot encoded\n",
        "        X = X.to(device)\n",
        "        Y = Y.to(device)\n",
        "\n",
        "        optimizer.zero_grad()\n",
        "        hypothetis = model(X)\n",
        "        cost = criterion(hypothetis, Y)\n",
        "        cost.backward()\n",
        "        optimizer.step()\n",
        "\n",
        "        avg_cost += cost/ total_batch\n",
        "\n",
        "    print('[Epoch: {:>4}] cost = {:>.9}'.format(epoch + 1, avg_cost))"
      ]
    },
    {
      "cell_type": "markdown",
      "metadata": {
        "id": "8L6oWlVSvksf"
      },
      "source": [
        "테스트를 해보자."
      ]
    },
    {
      "cell_type": "code",
      "execution_count": 11,
      "metadata": {
        "colab": {
          "base_uri": "https://localhost:8080/"
        },
        "id": "J0Key0KLvksf",
        "outputId": "c00b3382-1bd1-4c44-940f-c533ae066bc2"
      },
      "outputs": [
        {
          "name": "stderr",
          "output_type": "stream",
          "text": [
            "/usr/local/lib/python3.11/dist-packages/torchvision/datasets/mnist.py:81: UserWarning: test_data has been renamed data\n",
            "  warnings.warn(\"test_data has been renamed data\")\n",
            "/usr/local/lib/python3.11/dist-packages/torchvision/datasets/mnist.py:71: UserWarning: test_labels has been renamed targets\n",
            "  warnings.warn(\"test_labels has been renamed targets\")\n"
          ]
        },
        {
          "name": "stdout",
          "output_type": "stream",
          "text": [
            "Accuracy :  0.9868000149726868\n"
          ]
        }
      ],
      "source": [
        "# 학습을 진행하지 않을 것이므로 torch.no_grad()\n",
        "\n",
        "with torch.no_grad():\n",
        "    X_test = mnist_test.test_data.view(len(mnist_test), 1, 28, 28).float().to(device)\n",
        "    Y_test = mnist_test.test_labels.to(device)\n",
        "\n",
        "    prediction = model(X_test)\n",
        "    correct_prediction = torch.argmax(prediction, dim=1) ==  Y_test\n",
        "    accuracy = correct_prediction.float().mean()\n",
        "    print('Accuracy : ', accuracy.item())"
      ]
    },
    {
      "cell_type": "markdown",
      "metadata": {},
      "source": [
        "층을 쌓는다고 늘 정확도가 더 높아지지는 않는다.  \n",
        "모델 구조와 데이터셋의 특성, 그리고 환경 차이에 따라 달라질 수도 있다."
      ]
    }
  ],
  "metadata": {
    "accelerator": "GPU",
    "colab": {
      "gpuType": "T4",
      "include_colab_link": true,
      "provenance": []
    },
    "kernelspec": {
      "display_name": "Python 3",
      "name": "python3"
    },
    "language_info": {
      "codemirror_mode": {
        "name": "ipython",
        "version": 3
      },
      "file_extension": ".py",
      "mimetype": "text/x-python",
      "name": "python",
      "nbconvert_exporter": "python",
      "pygments_lexer": "ipython3",
      "version": "3.12.9"
    }
  },
  "nbformat": 4,
  "nbformat_minor": 0
}
