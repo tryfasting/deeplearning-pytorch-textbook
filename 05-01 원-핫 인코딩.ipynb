{
 "cells": [
  {
   "cell_type": "markdown",
   "metadata": {},
   "source": [
    "### 1. 원-핫 인코딩"
   ]
  },
  {
   "cell_type": "markdown",
   "metadata": {},
   "source": [
    "### 2. 원-핫 벡터의 무작위성\n",
    "\n",
    "레이블링을 하면,  \n",
    "{red, green, blue}와 같이 3개라면 각각 0, 1, 2와 같은 방식이다.  \n",
    "학습 모델에게, red보다 green이 더 크고, blue가 제일 크다는 인상을 남겨줄 수 있다.  \n",
    "\n",
    "이럴 때는 원-핫 벡터가 좋겠다.  \n",
    "\n",
    "{baby, child, adolescent, adult}나 {1층, 2층, 3층, 4층},  \n",
    "{10대, 20대, 30대, 40대}와 같은 경우는 레이블링이 유의미하겠다.  "
   ]
  }
 ],
 "metadata": {
  "language_info": {
   "name": "python"
  }
 },
 "nbformat": 4,
 "nbformat_minor": 2
}
