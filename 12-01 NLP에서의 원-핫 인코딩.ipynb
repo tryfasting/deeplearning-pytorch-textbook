{
 "cells": [
  {
   "cell_type": "markdown",
   "metadata": {},
   "source": [
    "단어 집합이란 서로 다른 단어들의 집합이다.    \n",
    "book, books를 다른 단어로 간주한다.  \n",
    "\n",
    "원-핫 인코딩을 위해서는,  \n",
    "1. 단어 집합을 만든다.  \n",
    "2. 정수 인코딩을 한다.  "
   ]
  },
  {
   "cell_type": "markdown",
   "metadata": {},
   "source": [
    "### 1. 원-핫 인코딩(One-hot encoding)이란?\n",
    "\n",
    "원-핫 인코딩 실습을 해보자."
   ]
  },
  {
   "cell_type": "code",
   "execution_count": 4,
   "metadata": {},
   "outputs": [],
   "source": [
    "import konlpy"
   ]
  },
  {
   "cell_type": "code",
   "execution_count": 5,
   "metadata": {},
   "outputs": [
    {
     "ename": "JVMNotFoundException",
     "evalue": "No JVM shared library file (jvm.dll) found. Try setting up the JAVA_HOME environment variable properly.",
     "output_type": "error",
     "traceback": [
      "\u001b[31m---------------------------------------------------------------------------\u001b[39m",
      "\u001b[31mJVMNotFoundException\u001b[39m                      Traceback (most recent call last)",
      "\u001b[36mCell\u001b[39m\u001b[36m \u001b[39m\u001b[32mIn[5]\u001b[39m\u001b[32m, line 2\u001b[39m\n\u001b[32m      1\u001b[39m \u001b[38;5;28;01mfrom\u001b[39;00m\u001b[38;5;250m \u001b[39m\u001b[34;01mkonlpy\u001b[39;00m\u001b[34;01m.\u001b[39;00m\u001b[34;01mtag\u001b[39;00m\u001b[38;5;250m \u001b[39m\u001b[38;5;28;01mimport\u001b[39;00m Okt\n\u001b[32m----> \u001b[39m\u001b[32m2\u001b[39m okt = \u001b[43mOkt\u001b[49m\u001b[43m(\u001b[49m\u001b[43m)\u001b[49m\n\u001b[32m      3\u001b[39m token = okt.morphs(\u001b[33m'\u001b[39m\u001b[33m나는 자연어 처리를 배운다.\u001b[39m\u001b[33m'\u001b[39m)\n\u001b[32m      4\u001b[39m \u001b[38;5;28mprint\u001b[39m(token)\n",
      "\u001b[36mFile \u001b[39m\u001b[32mc:\\Users\\user\\Workspace\\deeplearning-pytorch-textbook\\.venv\\Lib\\site-packages\\konlpy\\tag\\_okt.py:51\u001b[39m, in \u001b[36mOkt.__init__\u001b[39m\u001b[34m(self, jvmpath, max_heap_size)\u001b[39m\n\u001b[32m     49\u001b[39m \u001b[38;5;28;01mdef\u001b[39;00m\u001b[38;5;250m \u001b[39m\u001b[34m__init__\u001b[39m(\u001b[38;5;28mself\u001b[39m, jvmpath=\u001b[38;5;28;01mNone\u001b[39;00m, max_heap_size=\u001b[32m1024\u001b[39m):\n\u001b[32m     50\u001b[39m     \u001b[38;5;28;01mif\u001b[39;00m \u001b[38;5;129;01mnot\u001b[39;00m jpype.isJVMStarted():\n\u001b[32m---> \u001b[39m\u001b[32m51\u001b[39m         \u001b[43mjvm\u001b[49m\u001b[43m.\u001b[49m\u001b[43minit_jvm\u001b[49m\u001b[43m(\u001b[49m\u001b[43mjvmpath\u001b[49m\u001b[43m,\u001b[49m\u001b[43m \u001b[49m\u001b[43mmax_heap_size\u001b[49m\u001b[43m)\u001b[49m\n\u001b[32m     53\u001b[39m     oktJavaPackage = jpype.JPackage(\u001b[33m'\u001b[39m\u001b[33mkr.lucypark.okt\u001b[39m\u001b[33m'\u001b[39m)\n\u001b[32m     54\u001b[39m     OktInterfaceJavaClass = oktJavaPackage.OktInterface\n",
      "\u001b[36mFile \u001b[39m\u001b[32mc:\\Users\\user\\Workspace\\deeplearning-pytorch-textbook\\.venv\\Lib\\site-packages\\konlpy\\jvm.py:55\u001b[39m, in \u001b[36minit_jvm\u001b[39m\u001b[34m(jvmpath, max_heap_size)\u001b[39m\n\u001b[32m     52\u001b[39m args = [javadir, os.sep]\n\u001b[32m     53\u001b[39m classpath = [f.format(*args) \u001b[38;5;28;01mfor\u001b[39;00m f \u001b[38;5;129;01min\u001b[39;00m folder_suffix]\n\u001b[32m---> \u001b[39m\u001b[32m55\u001b[39m jvmpath = jvmpath \u001b[38;5;129;01mor\u001b[39;00m \u001b[43mjpype\u001b[49m\u001b[43m.\u001b[49m\u001b[43mgetDefaultJVMPath\u001b[49m\u001b[43m(\u001b[49m\u001b[43m)\u001b[49m\n\u001b[32m     57\u001b[39m \u001b[38;5;66;03m# NOTE: Temporary patch for Issue #76. Erase when possible.\u001b[39;00m\n\u001b[32m     58\u001b[39m \u001b[38;5;28;01mif\u001b[39;00m sys.platform == \u001b[33m'\u001b[39m\u001b[33mdarwin\u001b[39m\u001b[33m'\u001b[39m\\\n\u001b[32m     59\u001b[39m         \u001b[38;5;129;01mand\u001b[39;00m jvmpath.find(\u001b[33m'\u001b[39m\u001b[33m1.8.0\u001b[39m\u001b[33m'\u001b[39m) > \u001b[32m0\u001b[39m\\\n\u001b[32m     60\u001b[39m         \u001b[38;5;129;01mand\u001b[39;00m jvmpath.endswith(\u001b[33m'\u001b[39m\u001b[33mlibjvm.dylib\u001b[39m\u001b[33m'\u001b[39m):\n",
      "\u001b[36mFile \u001b[39m\u001b[32mc:\\Users\\user\\Workspace\\deeplearning-pytorch-textbook\\.venv\\Lib\\site-packages\\jpype\\_jvmfinder.py:70\u001b[39m, in \u001b[36mgetDefaultJVMPath\u001b[39m\u001b[34m()\u001b[39m\n\u001b[32m     68\u001b[39m \u001b[38;5;28;01melse\u001b[39;00m:\n\u001b[32m     69\u001b[39m     finder = LinuxJVMFinder()\n\u001b[32m---> \u001b[39m\u001b[32m70\u001b[39m \u001b[38;5;28;01mreturn\u001b[39;00m \u001b[43mfinder\u001b[49m\u001b[43m.\u001b[49m\u001b[43mget_jvm_path\u001b[49m\u001b[43m(\u001b[49m\u001b[43m)\u001b[49m\n",
      "\u001b[36mFile \u001b[39m\u001b[32mc:\\Users\\user\\Workspace\\deeplearning-pytorch-textbook\\.venv\\Lib\\site-packages\\jpype\\_jvmfinder.py:204\u001b[39m, in \u001b[36mJVMFinder.get_jvm_path\u001b[39m\u001b[34m(self)\u001b[39m\n\u001b[32m    202\u001b[39m \u001b[38;5;28;01mif\u001b[39;00m jvm_notsupport_ext \u001b[38;5;129;01mis\u001b[39;00m \u001b[38;5;129;01mnot\u001b[39;00m \u001b[38;5;28;01mNone\u001b[39;00m:\n\u001b[32m    203\u001b[39m     \u001b[38;5;28;01mraise\u001b[39;00m jvm_notsupport_ext\n\u001b[32m--> \u001b[39m\u001b[32m204\u001b[39m \u001b[38;5;28;01mraise\u001b[39;00m JVMNotFoundException(\u001b[33m\"\u001b[39m\u001b[33mNo JVM shared library file (\u001b[39m\u001b[38;5;132;01m{0}\u001b[39;00m\u001b[33m) \u001b[39m\u001b[33m\"\u001b[39m\n\u001b[32m    205\u001b[39m                            \u001b[33m\"\u001b[39m\u001b[33mfound. Try setting up the JAVA_HOME \u001b[39m\u001b[33m\"\u001b[39m\n\u001b[32m    206\u001b[39m                            \u001b[33m\"\u001b[39m\u001b[33menvironment variable properly.\u001b[39m\u001b[33m\"\u001b[39m\n\u001b[32m    207\u001b[39m                            .format(\u001b[38;5;28mself\u001b[39m._libfile))\n",
      "\u001b[31mJVMNotFoundException\u001b[39m: No JVM shared library file (jvm.dll) found. Try setting up the JAVA_HOME environment variable properly."
     ]
    }
   ],
   "source": [
    "from konlpy.tag import Okt\n",
    "okt = Okt()\n",
    "token = okt.morphs('나는 자연어 처리를 배운다.')\n",
    "print(token)"
   ]
  }
 ],
 "metadata": {
  "kernelspec": {
   "display_name": ".venv",
   "language": "python",
   "name": "python3"
  },
  "language_info": {
   "codemirror_mode": {
    "name": "ipython",
    "version": 3
   },
   "file_extension": ".py",
   "mimetype": "text/x-python",
   "name": "python",
   "nbconvert_exporter": "python",
   "pygments_lexer": "ipython3",
   "version": "3.12.9"
  }
 },
 "nbformat": 4,
 "nbformat_minor": 2
}
