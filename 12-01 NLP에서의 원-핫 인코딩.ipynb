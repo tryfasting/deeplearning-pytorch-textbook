{
 "cells": [
  {
   "cell_type": "markdown",
   "metadata": {},
   "source": [
    "단어 집합이란 서로 다른 단어들의 집합이다.    \n",
    "book, books를 다른 단어로 간주한다.  \n",
    "\n",
    "원-핫 인코딩을 위해서는,  \n",
    "1. 단어 집합을 만든다.  \n",
    "2. 정수 인코딩을 한다.  "
   ]
  },
  {
   "cell_type": "markdown",
   "metadata": {},
   "source": [
    "### 1. 원-핫 인코딩(One-hot encoding)이란?"
   ]
  }
 ],
 "metadata": {
  "language_info": {
   "name": "python"
  }
 },
 "nbformat": 4,
 "nbformat_minor": 2
}
