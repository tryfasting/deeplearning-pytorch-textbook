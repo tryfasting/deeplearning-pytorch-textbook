{
 "cells": [
  {
   "cell_type": "markdown",
   "metadata": {},
   "source": [
    "CNN으로 MNIST 분류 실습을 하자.  "
   ]
  },
  {
   "cell_type": "markdown",
   "metadata": {},
   "source": [
    "### 1. 모델 이해하기"
   ]
  },
  {
   "cell_type": "markdown",
   "metadata": {},
   "source": [
    "우리가 만들 모델의 아키텍처를 이해해보자.  \n",
    "합성곱 신경망은 출처에 따라 합성곱 층을 부르는 단위가 조금 다르다.  "
   ]
  },
  {
   "cell_type": "markdown",
   "metadata": {},
   "source": [
    "#### 1) 첫 번째 표기 방법\n",
    "\n",
    "합성곱(nn.Conv2d) + 활성화 함수(nn.ReLU)를 하나의 합성곱 층으로 보고,  \n",
    "맥스 풀링(nn.MaxPoold2d)는 풀링 층으로 별도로 명명한다.  "
   ]
  },
  {
   "cell_type": "markdown",
   "metadata": {},
   "source": [
    "#### 2) 두 번째 표기 방법\n",
    "\n",
    "합성곱(nn.Conv2d) + 활성화 함수(nn.ReLU) + 맥스 풀링(nn.MaxPoold2d)를  \n",
    "하나의 합성곱 층으로 본다.  \n",
    "\n",
    "본 챕터에는 편의상 맥스풀링도 포함하는 것으로 한다."
   ]
  },
  {
   "cell_type": "markdown",
   "metadata": {},
   "source": [
    "### 2. 모델 구현하기"
   ]
  },
  {
   "cell_type": "markdown",
   "metadata": {},
   "source": [
    "#### 1) 필요한 도구 임포트, 입력의 정의"
   ]
  },
  {
   "cell_type": "code",
   "execution_count": 1,
   "metadata": {},
   "outputs": [],
   "source": [
    "import torch\n",
    "import torch.nn as nn"
   ]
  },
  {
   "cell_type": "code",
   "execution_count": 2,
   "metadata": {},
   "outputs": [
    {
     "name": "stdout",
     "output_type": "stream",
     "text": [
      "텐서의 크기 : torch.Size([1, 1, 28, 28])\n"
     ]
    }
   ],
   "source": [
    "# 배치 크기 * 채널 * 높이(height) * 너비(width)의 크기의 텐서를 선언\n",
    "inputs = torch.Tensor(1,1,28,28)\n",
    "print(f'텐서의 크기 : {inputs.shape}')"
   ]
  },
  {
   "cell_type": "markdown",
   "metadata": {},
   "source": [
    "#### 2) Convolution layer(합성곱층)과 Pooling"
   ]
  },
  {
   "cell_type": "code",
   "execution_count": 4,
   "metadata": {},
   "outputs": [
    {
     "name": "stdout",
     "output_type": "stream",
     "text": [
      "Conv2d(1, 32, kernel_size=(3, 3), stride=(1, 1), padding=(1, 1))\n"
     ]
    }
   ],
   "source": [
    "# 1채널, 32채널 출력, 커널 사이즈 3, 패딩 1\n",
    "conv1 = nn.Conv2d(1, 32, 3, padding=1)\n",
    "print(conv1)"
   ]
  },
  {
   "cell_type": "code",
   "execution_count": 5,
   "metadata": {},
   "outputs": [
    {
     "name": "stdout",
     "output_type": "stream",
     "text": [
      "Conv2d(32, 64, kernel_size=(3, 3), stride=(1, 1), padding=(1, 1))\n"
     ]
    }
   ],
   "source": [
    "# 32채널 입력, 64채널 출력, 커널 사이즈 3, 패딩 1\n",
    "conv2 = nn.Conv2d(32, 64, kernel_size=3,padding=1)\n",
    "print(conv2)"
   ]
  },
  {
   "cell_type": "markdown",
   "metadata": {},
   "source": [
    "맥스풀링을 구현하자.  \n",
    "정수 하나를 인자로 넣으면 커널 사이즈와 스트라이드가 둘 다 해당값으로 지정된다."
   ]
  },
  {
   "cell_type": "code",
   "execution_count": 6,
   "metadata": {},
   "outputs": [
    {
     "name": "stdout",
     "output_type": "stream",
     "text": [
      "MaxPool2d(kernel_size=2, stride=2, padding=0, dilation=1, ceil_mode=False)\n"
     ]
    }
   ],
   "source": [
    "pool = nn.MaxPool2d(2)\n",
    "print(pool)"
   ]
  },
  {
   "cell_type": "markdown",
   "metadata": {},
   "source": [
    "#### 3) 구현체를 연결하여 모델 만들기"
   ]
  },
  {
   "cell_type": "markdown",
   "metadata": {},
   "source": [
    "이제 이들을 연결시켜서 모델을 완성시켜보자.  \n",
    "입력을 첫 번째 합성곱층을 통과시키자.  "
   ]
  },
  {
   "cell_type": "code",
   "execution_count": 7,
   "metadata": {},
   "outputs": [
    {
     "name": "stdout",
     "output_type": "stream",
     "text": [
      "torch.Size([1, 32, 28, 28])\n"
     ]
    }
   ],
   "source": [
    "out = conv1(inputs)\n",
    "print(out.shape)"
   ]
  },
  {
   "cell_type": "markdown",
   "metadata": {},
   "source": [
    "32채널의 28 X 28 텐서가 되었다.  \n",
    "32채널은 conv1의 out_channel이 32로 설정했기 때문.  \n",
    "크기가 28인 이유는 feature map 크기 계산 공식에 따라서 나옴.  \n",
    "\n",
    "이제 맥스풀링에 통과시키고 텐서의 크기를 보자."
   ]
  },
  {
   "cell_type": "code",
   "execution_count": 8,
   "metadata": {},
   "outputs": [
    {
     "name": "stdout",
     "output_type": "stream",
     "text": [
      "torch.Size([1, 32, 14, 14])\n"
     ]
    }
   ],
   "source": [
    "out = pool(out)\n",
    "print(out.shape)"
   ]
  },
  {
   "cell_type": "markdown",
   "metadata": {},
   "source": [
    "stride가 2였기 때문에 28x28이 14x14가 됨."
   ]
  },
  {
   "cell_type": "markdown",
   "metadata": {},
   "source": [
    "이제 다시 두 번째 합성곱층에 통과시켜보자."
   ]
  },
  {
   "cell_type": "code",
   "execution_count": 9,
   "metadata": {},
   "outputs": [
    {
     "name": "stdout",
     "output_type": "stream",
     "text": [
      "torch.Size([1, 64, 14, 14])\n"
     ]
    }
   ],
   "source": [
    "out = conv2(out)\n",
    "print(out.shape)"
   ]
  },
  {
   "cell_type": "markdown",
   "metadata": {},
   "source": [
    "64가 나온 이유는 conv2의 out_chaannel을 64를 지정했기 때문이다.  \n",
    "14 x 14가 된 이유는 마찬가지로 feature map 공식.\n",
    "\n",
    "이제 다시 맥스풀링에 통과시켜 보자.  \n",
    "역시 stride 2이기 때문에 절반이 되었다."
   ]
  },
  {
   "cell_type": "code",
   "execution_count": 10,
   "metadata": {},
   "outputs": [
    {
     "name": "stdout",
     "output_type": "stream",
     "text": [
      "torch.Size([1, 64, 7, 7])\n"
     ]
    }
   ],
   "source": [
    "out = pool(out)\n",
    "print(out.shape)"
   ]
  },
  {
   "cell_type": "markdown",
   "metadata": {},
   "source": [
    "이제 이 텐서를 펼치는 작업을 하자.  \n",
    "이에 앞서 텐서의 n번째 차원에 접근하게 해주는 .size(n)에 대해서 배우자.  \n",
    "현재 out의 크기는 [1, 64, 7, 7]이다.  \n",
    "out의 첫 번째 차원이 몇인지 출력해보자.  "
   ]
  },
  {
   "cell_type": "code",
   "execution_count": 13,
   "metadata": {},
   "outputs": [
    {
     "data": {
      "text/plain": [
       "1"
      ]
     },
     "execution_count": 13,
     "metadata": {},
     "output_type": "execute_result"
    }
   ],
   "source": [
    "out.size(0)"
   ]
  },
  {
   "cell_type": "code",
   "execution_count": 14,
   "metadata": {},
   "outputs": [
    {
     "data": {
      "text/plain": [
       "64"
      ]
     },
     "execution_count": 14,
     "metadata": {},
     "output_type": "execute_result"
    }
   ],
   "source": [
    "out.size(1)"
   ]
  },
  {
   "cell_type": "code",
   "execution_count": 15,
   "metadata": {},
   "outputs": [
    {
     "data": {
      "text/plain": [
       "7"
      ]
     },
     "execution_count": 15,
     "metadata": {},
     "output_type": "execute_result"
    }
   ],
   "source": [
    "out.size(2)"
   ]
  },
  {
   "cell_type": "code",
   "execution_count": 16,
   "metadata": {},
   "outputs": [
    {
     "data": {
      "text/plain": [
       "7"
      ]
     },
     "execution_count": 16,
     "metadata": {},
     "output_type": "execute_result"
    }
   ],
   "source": [
    "out.size(3)"
   ]
  },
  {
   "cell_type": "markdown",
   "metadata": {},
   "source": [
    "이제 이를 가지고 .view()를 사용하여 텐서를 펼치는 작업을 해보자.  "
   ]
  },
  {
   "cell_type": "code",
   "execution_count": 17,
   "metadata": {},
   "outputs": [
    {
     "name": "stdout",
     "output_type": "stream",
     "text": [
      "torch.Size([1, 3136])\n"
     ]
    }
   ],
   "source": [
    "out = out.view(out.size(0), -1) # 첫 번째 차원인 배치 차원은 그대로 두고 나머지는 펼쳐라.\n",
    "print(out.shape)"
   ]
  },
  {
   "cell_type": "markdown",
   "metadata": {},
   "source": [
    "배치 차원을 제외하고 모두 하나의 차원으로 통합된 것을 볼 수 있다.  \n",
    "이제 이에 대해서 Fully-Connected layer를 통과시켜보자.  \n",
    "\n",
    "출력층으로 10개의 뉴런을 배치하여 10개 차원의 텐서로 변환하자."
   ]
  },
  {
   "cell_type": "code",
   "execution_count": 18,
   "metadata": {},
   "outputs": [
    {
     "name": "stdout",
     "output_type": "stream",
     "text": [
      "torch.Size([1, 10])\n"
     ]
    }
   ],
   "source": [
    "fc = nn.Linear(3136, 10) # input_dim = 3,136, output_dim = 10\n",
    "out = fc(out)\n",
    "print(out.shape)"
   ]
  },
  {
   "cell_type": "markdown",
   "metadata": {},
   "source": [
    "### 3. CNN으로 MNIST 분류하기"
   ]
  },
  {
   "cell_type": "code",
   "execution_count": 1,
   "metadata": {},
   "outputs": [],
   "source": [
    "import torch\n",
    "import torchvision.datasets as dsets\n",
    "import torchvision.transforms as transforms\n",
    "import torch.nn.init"
   ]
  },
  {
   "cell_type": "code",
   "execution_count": 2,
   "metadata": {},
   "outputs": [],
   "source": [
    "device = 'cuda' if torch.cuda.is_available() else 'cpu'\n",
    "\n",
    "# 랜덤 시드 고정\n",
    "torch.manual_seed(777)\n",
    "\n",
    "# GPU 사용 가능일 경우 랜덤 시드 고정\n",
    "if device == 'cuda':\n",
    "    torch.cuda.manual_seed_all(777)"
   ]
  },
  {
   "cell_type": "code",
   "execution_count": 3,
   "metadata": {},
   "outputs": [],
   "source": [
    "learning_rate = 0.001   \n",
    "training_epochs = 15\n",
    "batch_size = 100"
   ]
  },
  {
   "cell_type": "markdown",
   "metadata": {},
   "source": [
    "데이터셋을 정의한다."
   ]
  },
  {
   "cell_type": "code",
   "execution_count": 4,
   "metadata": {},
   "outputs": [
    {
     "name": "stderr",
     "output_type": "stream",
     "text": [
      "100.0%\n",
      "100.0%\n",
      "100.0%\n",
      "100.0%\n"
     ]
    }
   ],
   "source": [
    "mnist_train = dsets.MNIST(root='MNIST_data/',\n",
    "                          train=True,\n",
    "                          transform=transforms.ToTensor(),\n",
    "                          download=True)\n",
    "\n",
    "mnist_test = dsets.MNIST(root='MNIST_data/',\n",
    "                         train=False,\n",
    "                         transform = transforms.ToTensor(),\n",
    "                         download=True)"
   ]
  },
  {
   "cell_type": "markdown",
   "metadata": {},
   "source": [
    "데이터로더를 사용하여 배치 크기를 지정한다."
   ]
  },
  {
   "cell_type": "code",
   "execution_count": 5,
   "metadata": {},
   "outputs": [],
   "source": [
    "data_loader = torch.utils.data.DataLoader(dataset=mnist_train,\n",
    "                                          batch_size=batch_size,\n",
    "                                          shuffle=True,\n",
    "                                          drop_last=True)"
   ]
  },
  {
   "cell_type": "markdown",
   "metadata": {},
   "source": [
    "클래스로 모델을 설계한다."
   ]
  },
  {
   "cell_type": "code",
   "execution_count": 6,
   "metadata": {},
   "outputs": [],
   "source": [
    "class CNN(torch.nn.Module):\n",
    "\n",
    "    def __init__(self):\n",
    "        super(CNN, self).__init__()\n",
    "        # 첫 번째 층\n",
    "        # ImgIn shape = (?, 28, 28 , 1)\n",
    "        #  Conv      -> (?, 28, 28, 32)\n",
    "        #  Pool      -> (?, 14, 14, 32)\n",
    "        self.layer1 = torch.nn.Sequential(\n",
    "            torch.nn.Conv2d(1, 32, kernel_size=3, stride=1, padding=1),\n",
    "            torch.nn.ReLU(),\n",
    "            torch.nn.MaxPool2d(kernel_size=2, stride=2))\n",
    "        \n",
    "        # 두 번째 층\n",
    "        # ImgIn shape = (?, 14, 14, 32)\n",
    "        #  Conv       ->(?, 14, 14, 64)\n",
    "        #  Pool       ->(?, 7,  7 , 64)\n",
    "        self.layer2 = torch.nn.Sequential(\n",
    "            torch.nn.Conv2d(32, 64, kernel_size=3, stride=1, padding=1),\n",
    "            torch.nn.ReLU(),\n",
    "            torch.nn.MaxPool2d(kernel_size=2, stride= 2)\n",
    "\n",
    "        )\n",
    "        # 전결합층 7X7X64 inputs -> 10 outputs\n",
    "        self.fc = torch.nn.Linear(7 * 7 * 64, 10, bias=True)\n",
    "\n",
    "        # 전결합층 한정으로 가중치 초기화\n",
    "        torch.nn.init.xavier_uniform_(self.fc.weight)\n",
    "\n",
    "    def forward(self, x):\n",
    "        out = self.layer1(x)\n",
    "        out = self.layer2(x)\n",
    "        # out.size(0)는 첫 번째 차원인 배치차원.\n",
    "        # out.size(0)만 유지하고, 나머지는 알아서 -> 즉 펼치는 셈이 된다.\n",
    "        out = out.view(out.size(0), -1) # 전결합층을 위해서 Flatten\n",
    "\n",
    "        out = self.fc(out)\n",
    "        return out"
   ]
  },
  {
   "cell_type": "markdown",
   "metadata": {},
   "source": [
    "모델을 선언한다."
   ]
  },
  {
   "cell_type": "code",
   "execution_count": 7,
   "metadata": {},
   "outputs": [],
   "source": [
    "# CNN 모델 선언\n",
    "model =  CNN().to(device)"
   ]
  },
  {
   "cell_type": "markdown",
   "metadata": {},
   "source": [
    "비용함수와 옵티마이저를 정의한다."
   ]
  },
  {
   "cell_type": "code",
   "execution_count": 8,
   "metadata": {},
   "outputs": [],
   "source": [
    "criterion = torch.nn.CrossEntropyLoss().to(device) # 비용 함수에 소프트맥스함수 포함\n",
    "optimizer = torch.optim.Adam(model.parameters(), lr=learning_rate)"
   ]
  },
  {
   "cell_type": "markdown",
   "metadata": {},
   "source": [
    "총 배치 수를 출력해보자."
   ]
  },
  {
   "cell_type": "code",
   "execution_count": 10,
   "metadata": {},
   "outputs": [
    {
     "name": "stdout",
     "output_type": "stream",
     "text": [
      "총 배치의 수 : 600\n"
     ]
    }
   ],
   "source": [
    "total_batch = len(data_loader)\n",
    "print(f'총 배치의 수 : {total_batch}')"
   ]
  },
  {
   "cell_type": "markdown",
   "metadata": {},
   "source": [
    "총 배치의 수가 600개이다.  \n",
    "배치 크기를 100으로 했으므로, 즉 훈련 데이터가 60000개라는 의미이다.  \n",
    "이제 모델을 훈련시켜보자.(colab으로 대체)"
   ]
  },
  {
   "cell_type": "code",
   "execution_count": null,
   "metadata": {},
   "outputs": [],
   "source": [
    "for epoch in range(training_epochs):\n",
    "    avg_cost = 0 # 에포크 당 평균 비용을 저장하기 위한 변수 초기화\n",
    "    for X,Y in data_loader: # 미니 배치 단위로 데이터를 꺼내옴. X는 입력데이터, Y는 레이블\n",
    "        # 이미지 데이터는 이미 28 * 28 크기를 가지므로, 별도의 reshape 필요없음\n",
    "        # 레이블 Y는 원-핫 인코딩이 아닌 정수형 클래스 레이블임\n",
    "        X = X.to(device) # 입력 데이터를 연산이 수행될 장치로 이동\n",
    "        Y = Y.to(device) # 레이블을 연산이 수행될 장치로 이동\n",
    "\n",
    "        optimizer.zero_grad() # 옵티마이저의 기울기 초기화\n",
    "        hypothesis = model(X) # 모델을 통해 예측값을 계산(순전파 연산)\n",
    "        cost = criterion(hypothesis, Y) # 예측값과 실제값 Y간의 cost 계산\n",
    "        cost.backward()       # 역전파 연산을 통해 기울기 계산\n",
    "        optimizer.step()      # 옵티마이저를 통해 파라미터 업데이트\n",
    "\n",
    "        avg_cost += cost / total_batch  # 현재 배치의 비용을 전체 배치 수로 나누어 누적\n",
    "    # 에포크가 끝날 때마다 평균 비용 출력\n",
    "    print('[Epoch: {:>4}] cost = {:>.9}'.format(epoch + 1, avg_cost))"
   ]
  },
  {
   "cell_type": "markdown",
   "metadata": {},
   "source": [
    "이제 테스트를 해보자"
   ]
  },
  {
   "cell_type": "code",
   "execution_count": null,
   "metadata": {},
   "outputs": [],
   "source": [
    "# 학습을 진행하지 않을 것이므로 torch.no_grad() 사용\n",
    "with torch.no_grad():\n",
    "    # 테스트 데이터를 모델에 입력하기 위한 준비\n",
    "    X_test = mnist_test.test_data.view(len(mnist_test), 1, 28, 28).float().to(device) # 테스트 데이터셋의 크기를 맞추고, 연산을 위한 장치로 이동\n",
    "\n",
    "    Y_test = mnist_test.test_labels.to(device) # 테스트 데이터셋의 레이블을 연산을 위한 장치로 이동\n",
    "\n",
    "    # 모델 예측 수행\n",
    "    prediction = model(X_test) # 테스트 데이터에 대해 모델이 예측한 결과값\n",
    "\n",
    "    # 예측 결과와 실제 레이블 비교\n",
    "    # torch.argmax -> dim=1, 열방향으로 prediction의 최댓값들을 출력\n",
    "    correct_prediction = torch.argmax(prediction, 1) == Y_test\n",
    "    # 예측된 클래스와 실제 레이블이 일치하는지 확인\n",
    "\n",
    "    # 정확도 계산\n",
    "    accuracy = correct_prediction.float().mean() # 정확도를 계산하기 위해 일치하는 예측의 평균을 구함\n",
    "    print('Accuracy:', accuracy.item())  # 정확도를 출력"
   ]
  }
 ],
 "metadata": {
  "kernelspec": {
   "display_name": ".venv",
   "language": "python",
   "name": "python3"
  },
  "language_info": {
   "codemirror_mode": {
    "name": "ipython",
    "version": 3
   },
   "file_extension": ".py",
   "mimetype": "text/x-python",
   "name": "python",
   "nbconvert_exporter": "python",
   "pygments_lexer": "ipython3",
   "version": "3.12.9"
  }
 },
 "nbformat": 4,
 "nbformat_minor": 2
}
