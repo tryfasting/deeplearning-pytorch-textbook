{
 "cells": [
  {
   "cell_type": "markdown",
   "metadata": {},
   "source": [
    "## 머신 러닝의 특징들에 대해 배운다."
   ]
  },
  {
   "cell_type": "markdown",
   "metadata": {},
   "source": [
    "### 1. 머신 러닝 모델의 평가"
   ]
  },
  {
   "cell_type": "markdown",
   "metadata": {},
   "source": [
    "Validation Data는 모델의 성능을 조정하기 위한 용도이다.  \n",
    "하이퍼파라미터(초매개변수)를 조정하는데 쓴다.  \n",
    "반면, 가중치나 편향과 같은 학습을 통해 바뀌어가는 변수를 매개변수라고 한다.  "
   ]
  },
  {
   "cell_type": "markdown",
   "metadata": {},
   "source": [
    "하이퍼파라미터는 보통 사용자가 직접 정해줄 수 있다.  \n",
    "매개변수는 모델이 학습하는 과정에서 얻어지는 값이다.  "
   ]
  },
  {
   "cell_type": "markdown",
   "metadata": {},
   "source": [
    "하이퍼파라미터 튜닝은 Validation Data를 사용해 진행한다.  \n",
    "그리고, 튜닝이 끝나면 Test Data를 바탕으로 모델 성능을 최종 평가한다."
   ]
  },
  {
   "cell_type": "markdown",
   "metadata": {},
   "source": [
    "만약, 검증 데이터와 테스트 데이터를 나눌 만큼 데이터가 충분하지 않다면  \n",
    "k-폴드 교차 검증이라는 방법을 사용한다.  "
   ]
  },
  {
   "cell_type": "markdown",
   "metadata": {},
   "source": [
    "### 2. 분류(Classification)와 회귀(Regression)"
   ]
  },
  {
   "cell_type": "markdown",
   "metadata": {},
   "source": [
    "### 1) 이진 분류 문제(Binary Classification)\n",
    "주어진 입력에서 둘 중 하나의 답을 정하는 문제  \n",
    "ex) 합격, 불합격 / 정상 메일, 스팸 메일"
   ]
  },
  {
   "cell_type": "markdown",
   "metadata": {},
   "source": [
    "### 2) 다중 클래스 분류(Multi-class Classification)\n",
    "ex)  MNIST 손글씨 분류"
   ]
  },
  {
   "cell_type": "markdown",
   "metadata": {},
   "source": [
    "### 3) 회귀 문제(Regression)\n",
    "연속된 값을 예측하는 문제  \n",
    "ex) 시계열 데이터를 이용한 주가 예측, 생산량 예측, 지수 예측"
   ]
  },
  {
   "cell_type": "markdown",
   "metadata": {},
   "source": [
    "### 3. 지도 학습과 비지도 학습"
   ]
  },
  {
   "cell_type": "markdown",
   "metadata": {},
   "source": [
    "#### 1) 지도 학습\n",
    "#### 2) 비지도 학습\n",
    "#### 3) 강화 학습"
   ]
  },
  {
   "cell_type": "markdown",
   "metadata": {},
   "source": [
    "### 4. 샘플(Sample)과 특성(Feature)"
   ]
  },
  {
   "cell_type": "markdown",
   "metadata": {},
   "source": [
    "여러 개의 특성(Feature)를 갖고 있는 하나의 데이터를 샘플(Sample)이라고 한다."
   ]
  },
  {
   "cell_type": "markdown",
   "metadata": {},
   "source": [
    "### 5. 혼동 행렬(Confusion Matrix)"
   ]
  },
  {
   "cell_type": "markdown",
   "metadata": {},
   "source": [
    "#### 1) 정밀도(Precision)\n",
    "양성이라고 대답한 전체 케이스에 대한 TP의 비율"
   ]
  },
  {
   "cell_type": "markdown",
   "metadata": {},
   "source": [
    "#### 2) 재현률(Recall)\n",
    "실제 양성인 데이터 중에서 얼마나 양성인지를 재현했는지의 비율"
   ]
  },
  {
   "cell_type": "markdown",
   "metadata": {},
   "source": [
    "### 6. 과적합(Overfitting)과 과소적합(Underfitting)\n",
    "\n",
    "과적합 : 훈련 데이터 정확도는 높으나, 테스트 데이터의 정확도가 낮은 상황  \n",
    "과소적합 : 테스트 데이터의 정확도가 더 올라갈 여지가 있음에도 훈련을 덜 진행한 상황"
   ]
  },
  {
   "cell_type": "markdown",
   "metadata": {},
   "source": [
    "### 7. 비선형 활성화 함수"
   ]
  },
  {
   "cell_type": "markdown",
   "metadata": {},
   "source": [
    "입력을 받아 수학적 변환을 수행하고 출력을 생성하는 함수.  \n",
    "은닉층에서 시그모이드 함수를 사용하는 것을 지양해야 하고, ReLU 함수가 낫다.는 것을 설명한다.  "
   ]
  },
  {
   "cell_type": "code",
   "execution_count": 2,
   "metadata": {},
   "outputs": [],
   "source": [
    "import numpy as np\n",
    "import matplotlib.pyplot as plt"
   ]
  },
  {
   "cell_type": "markdown",
   "metadata": {},
   "source": [
    "#### 1) 활성화 함수의 특징 - 비선형 함수(Nonlinear function)"
   ]
  },
  {
   "cell_type": "markdown",
   "metadata": {},
   "source": [
    "인공 신경망의 능력을 높이기 위해서는 은닉층을 계속해서 추가해야 한다.  \n",
    "그런데 만약 활성화 함수를 선형 함수를 사용하게 되면 은닉층을 쌓을 수가 없다.  \n",
    "\n",
    "선형 함수를 은닉층으로 여러번 추가하더라도, 그냥 가중치를 1회 추가한 것과 다를게 없게 된다.    \n",
    "https://wikidocs.net/60021"
   ]
  },
  {
   "cell_type": "markdown",
   "metadata": {},
   "source": [
    "#### 2) 시그모이드 함수와 기울기 소실"
   ]
  },
  {
   "cell_type": "markdown",
   "metadata": {},
   "source": []
  }
 ],
 "metadata": {
  "kernelspec": {
   "display_name": ".venv",
   "language": "python",
   "name": "python3"
  },
  "language_info": {
   "codemirror_mode": {
    "name": "ipython",
    "version": 3
   },
   "file_extension": ".py",
   "mimetype": "text/x-python",
   "name": "python",
   "nbconvert_exporter": "python",
   "pygments_lexer": "ipython3",
   "version": "3.13.2"
  }
 },
 "nbformat": 4,
 "nbformat_minor": 2
}
