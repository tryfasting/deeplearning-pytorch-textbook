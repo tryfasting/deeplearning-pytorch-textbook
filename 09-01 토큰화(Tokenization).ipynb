{
  "cells": [
    {
      "cell_type": "markdown",
      "metadata": {
        "id": "fDNxwk07Z4vd"
      },
      "source": [
        "## 주어진 코퍼스(corpus)에서 토큰(token)이라 불리는 단위로 나누는 작업을 토큰화(tokenization)이라고 한다. 토큰화의 개념을 이해하고, NLTK, KoNLPY를 통해 실습해보자.  "
      ]
    },
    {
      "cell_type": "markdown",
      "metadata": {
        "id": "AVschd39Z4vf"
      },
      "source": [
        "### 1. 단어 토큰화(Word Tokenization)"
      ]
    },
    {
      "cell_type": "markdown",
      "metadata": {
        "id": "f07_EMuIZ4vg"
      },
      "source": [
        "토큰의 기준을 단어로 하면, 단어 토큰화(Word tokenization)라고 한다.  \n",
        "토큰화 작업은, 구두점이나 특수문자를 전부 제거한다고 해서 해결되지 않는다."
      ]
    },
    {
      "cell_type": "markdown",
      "metadata": {
        "id": "fHXTqf8UZ4vg"
      },
      "source": [
        "### 2. 토큰화 중 생기는 선택의 순간"
      ]
    },
    {
      "cell_type": "markdown",
      "metadata": {
        "id": "VgYiwuWOZ4vg"
      },
      "source": [
        "아포스트로피 '를 어떻게 처리할 것인가?  "
      ]
    },
    {
      "cell_type": "code",
      "execution_count": 2,
      "metadata": {
        "id": "V6WGRxckZ4vh"
      },
      "outputs": [],
      "source": [
        "from nltk.tokenize import word_tokenize\n",
        "from nltk.tokenize import WordPunctTokenizer\n",
        "from tensorflow.keras.preprocessing.text import text_to_word_sequence"
      ]
    },
    {
      "cell_type": "code",
      "source": [
        "import nltk\n",
        "nltk.download('punkt_tab')"
      ],
      "metadata": {
        "id": "sVeOoQX1at69",
        "outputId": "34dfbade-9484-4741-8b27-e30931b920a3",
        "colab": {
          "base_uri": "https://localhost:8080/"
        }
      },
      "execution_count": 5,
      "outputs": [
        {
          "output_type": "stream",
          "name": "stderr",
          "text": [
            "[nltk_data] Downloading package punkt_tab to /root/nltk_data...\n",
            "[nltk_data]   Unzipping tokenizers/punkt_tab.zip.\n"
          ]
        },
        {
          "output_type": "execute_result",
          "data": {
            "text/plain": [
              "True"
            ]
          },
          "metadata": {},
          "execution_count": 5
        }
      ]
    },
    {
      "cell_type": "code",
      "source": [
        "print('단어 토큰화1 : ', word_tokenize(\"Don't be fooled by the dark souding name, Mr. Jone's Orphanage is as cheery as goes for a pastry shop.\"))"
      ],
      "metadata": {
        "id": "hKMfdbdzaMaQ",
        "outputId": "f48e0468-8c1b-4959-a04a-12dc8c088ec5",
        "colab": {
          "base_uri": "https://localhost:8080/"
        }
      },
      "execution_count": 6,
      "outputs": [
        {
          "output_type": "stream",
          "name": "stdout",
          "text": [
            "단어 토큰화1 :  ['Do', \"n't\", 'be', 'fooled', 'by', 'the', 'dark', 'souding', 'name', ',', 'Mr.', 'Jone', \"'s\", 'Orphanage', 'is', 'as', 'cheery', 'as', 'goes', 'for', 'a', 'pastry', 'shop', '.']\n"
          ]
        }
      ]
    },
    {
      "cell_type": "markdown",
      "source": [
        "word_tokenize는 Don't를 Do와 n't로 분리했고,  \n",
        "Jone's는 Jone과 's로 분리한 것을 알 수 있다.  \n",
        "\n",
        "wordPunctTokenizer는 어떨까?"
      ],
      "metadata": {
        "id": "AuIHrfgfbACz"
      }
    },
    {
      "cell_type": "code",
      "source": [
        "print('단어 토큰화2 :',WordPunctTokenizer().tokenize(\"Don't be fooled by the dark sounding name, Mr. Jone's Orphanage is as cheery as cheery goes for a pastry shop.\"))"
      ],
      "metadata": {
        "id": "r43uf6mZbTvN",
        "outputId": "c3fc938e-d206-4726-ba47-bcd8e446f4a6",
        "colab": {
          "base_uri": "https://localhost:8080/"
        }
      },
      "execution_count": 7,
      "outputs": [
        {
          "output_type": "stream",
          "name": "stdout",
          "text": [
            "단어 토큰화2 : ['Don', \"'\", 't', 'be', 'fooled', 'by', 'the', 'dark', 'sounding', 'name', ',', 'Mr', '.', 'Jone', \"'\", 's', 'Orphanage', 'is', 'as', 'cheery', 'as', 'cheery', 'goes', 'for', 'a', 'pastry', 'shop', '.']\n"
          ]
        }
      ]
    },
    {
      "cell_type": "markdown",
      "source": [
        "WordPunctTokenizer는 구두점을 별도로 분류하는 특징을 갖고 있기 때문에, 앞서 확인했던 word_tokenize와 달리 Don't를 Don과 '와 t로 분리하였으며, Jone's는 Jone과 ', s로 분리한 것을 알 수 있다.  \n",
        "\n",
        "케라스 또한 토큰화 도구로서 text_to_word_sequence를 지원한다."
      ],
      "metadata": {
        "id": "itU818MObX0t"
      }
    },
    {
      "cell_type": "code",
      "source": [
        "print('단어 토큰화3 :',text_to_word_sequence(\"Don't be fooled by the dark sounding name, Mr. Jone's Orphanage is as cheery as cheery goes for a pastry shop.\"))"
      ],
      "metadata": {
        "id": "j9PDG47DbxPU",
        "outputId": "9f09526e-aebb-47ca-cd74-28b73e5edabc",
        "colab": {
          "base_uri": "https://localhost:8080/"
        }
      },
      "execution_count": 8,
      "outputs": [
        {
          "output_type": "stream",
          "name": "stdout",
          "text": [
            "단어 토큰화3 : [\"don't\", 'be', 'fooled', 'by', 'the', 'dark', 'sounding', 'name', 'mr', \"jone's\", 'orphanage', 'is', 'as', 'cheery', 'as', 'cheery', 'goes', 'for', 'a', 'pastry', 'shop']\n"
          ]
        }
      ]
    },
    {
      "cell_type": "markdown",
      "source": [
        "케라스의 text_to_word_sequence는 기본적으로 모든 알파벳을 소문자로 바꾸면서 마침표나 컴마, 느낌표 등의 구두점을 제거합니다. 하지만 don't나 jone's와 같은 경우 아포스트로피는 보존하는 것을 볼 수 있습니다."
      ],
      "metadata": {
        "id": "C9I8LrmEb0pS"
      }
    },
    {
      "cell_type": "markdown",
      "source": [
        "### 3. 토큰화에서 고려해야할 사항"
      ],
      "metadata": {
        "id": "KDOWAfLeb2af"
      }
    },
    {
      "cell_type": "markdown",
      "source": [
        "토큰화 작업을 단순히 corpus에서 구두점을 제외하고 잘라내는 작업이라고 볼 수는 없다. 섬세한 알고리즘이 필요하다."
      ],
      "metadata": {
        "id": "QS8FcbEYb6Xr"
      }
    },
    {
      "cell_type": "markdown",
      "source": [
        "#### 1) 구두점이나 특수 문자를 단순 제외해서는 안 된다.\n",
        "\n",
        "마침표.와 같은 경우는 문장의 경계를 알 수 있으므로, 예외로 칠 수도 있다.\n",
        "\n",
        "혹은 Ph.D, AT&T 등이나, 특수 문자의 달러나 날짜 표기의 슬래시, 숫자 표기에 세자리 단위마다 컴마가 들어가는 경우도 있다."
      ],
      "metadata": {
        "id": "Adz6UR2DcEeF"
      }
    },
    {
      "cell_type": "markdown",
      "source": [
        "#### 2) 줄임말과 단어 내에 띄어쓰기가 있는 경우.\n",
        "영어권 언어의 아포스트로피는 압축된 단어를 펼치는 역할을 하기도 한다."
      ],
      "metadata": {
        "id": "6vzHIksjchwo"
      }
    },
    {
      "cell_type": "markdown",
      "source": [
        "#### 3) 표준 토큰화 예제\n",
        "Penn Treebank Tokenization의 규칙에 대해서 소개하고, 토큰화의 결과를 확인해보자."
      ],
      "metadata": {
        "id": "2CZNCjP1cwNJ"
      }
    }
  ],
  "metadata": {
    "kernelspec": {
      "display_name": "venv_tensorflow",
      "language": "python",
      "name": "python3"
    },
    "language_info": {
      "codemirror_mode": {
        "name": "ipython",
        "version": 3
      },
      "file_extension": ".py",
      "mimetype": "text/x-python",
      "name": "python",
      "nbconvert_exporter": "python",
      "pygments_lexer": "ipython3",
      "version": "3.12.9"
    },
    "colab": {
      "provenance": []
    }
  },
  "nbformat": 4,
  "nbformat_minor": 0
}