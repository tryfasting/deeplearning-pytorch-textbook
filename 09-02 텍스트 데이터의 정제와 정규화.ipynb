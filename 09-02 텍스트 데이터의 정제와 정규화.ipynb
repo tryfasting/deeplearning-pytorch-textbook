{
 "cells": [
  {
   "cell_type": "markdown",
   "metadata": {},
   "source": [
    "- 정제(cleaning) : 갖고 있는 corpus의 noise data를 제거한다.\n",
    "- 정규화(normalization) : 표현 방법이 다른 단어들을 통합시켜서 같은 단어로 만들어준다."
   ]
  },
  {
   "cell_type": "markdown",
   "metadata": {},
   "source": [
    "### **1. 규칙에 기반한 표기가 다른 단어들의 통합**"
   ]
  },
  {
   "cell_type": "markdown",
   "metadata": {},
   "source": [
    "예시) USA, US"
   ]
  },
  {
   "cell_type": "markdown",
   "metadata": {},
   "source": [
    "### **2. 대,소문자 통합**"
   ]
  },
  {
   "cell_type": "markdown",
   "metadata": {
    "vscode": {
     "languageId": "plaintext"
    }
   },
   "source": [
    "영어권 언어에서는 대,소문자 통합이 단어의 개수를 줄이는 또 다른 정규화 방법이다.  \n",
    "물론 미국 US와 not like us의 'us'는 또 다르다. 이러한 차이는 구별해야할 것이다."
   ]
  },
  {
   "cell_type": "markdown",
   "metadata": {},
   "source": [
    "### **3. 불필요한 단어의 제거**"
   ]
  },
  {
   "cell_type": "markdown",
   "metadata": {},
   "source": [
    "자연어가 아니면서 아무 의미도 갖지 않는 특수 문자, 혹은  \n",
    "분석하고자 하는 목적에 맞지 않는 불필요 단어를 noise data라고 한다."
   ]
  },
  {
   "cell_type": "markdown",
   "metadata": {},
   "source": [
    "#### 1) 등장 빈도가 적은 단어\n",
    "\n",
    "텍스트 데이터에서 너무 적게 등장해서 자연어 처리에 도움이 되지 않는 단어.  \n",
    "예를 들어 스팸 메일 분류기에서 총 합 단어 빈도수가 매우 적다면, 분류에 도움되지 않는 단어임을 판단 가능"
   ]
  },
  {
   "cell_type": "markdown",
   "metadata": {},
   "source": [
    "#### 2) 길이가 짧은 단어\n",
    "\n",
    "영어권 언어에서는 길이가 짧은 단어를 삭제하는 것만으로도 자연어 처리에서 크게 의미없는 단어를 제거하는 효과를 볼 수 있다고 알려져 있다. 다만 이는 한국어에는 해당하지 않는다.  "
   ]
  },
  {
   "cell_type": "code",
   "execution_count": 1,
   "metadata": {},
   "outputs": [
    {
     "name": "stdout",
     "output_type": "stream",
     "text": [
      " was wondering anyone out there could enlighten this car.\n"
     ]
    }
   ],
   "source": [
    "import re\n",
    "text = \"I was wondering if anyone out there could enlighten me on this car.\"\n",
    "\n",
    "# 길이가 1~2인 단어들을 정규 표현식을 이용하여 삭제\n",
    "shortword = re.compile(r'\\W*\\b\\w{1,2}\\b')\n",
    "print(shortword.sub('', text))"
   ]
  },
  {
   "cell_type": "markdown",
   "metadata": {},
   "source": [
    "### 4. 정규 표현식(Regular Expression)\n",
    "\n",
    "노이즈 데이터에는 특징을 잡을 수 있다. 예컨대 HTML 문서에서 가져온 코퍼스가 그렇다.  \n",
    "이러한 데이터를 정규식으로 한 번에 제거할 수 있다.  "
   ]
  }
 ],
 "metadata": {
  "kernelspec": {
   "display_name": ".venv",
   "language": "python",
   "name": "python3"
  },
  "language_info": {
   "codemirror_mode": {
    "name": "ipython",
    "version": 3
   },
   "file_extension": ".py",
   "mimetype": "text/x-python",
   "name": "python",
   "nbconvert_exporter": "python",
   "pygments_lexer": "ipython3",
   "version": "3.12.9"
  }
 },
 "nbformat": 4,
 "nbformat_minor": 2
}
